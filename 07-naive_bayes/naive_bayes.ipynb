{
 "cells": [
  {
   "cell_type": "code",
   "execution_count": 1,
   "id": "bbfbc7b1",
   "metadata": {},
   "outputs": [],
   "source": [
    "import pandas as pd\n",
    "from sklearn.naive_bayes import GaussianNB\n",
    "from sklearn.model_selection import train_test_split"
   ]
  },
  {
   "cell_type": "code",
   "execution_count": 2,
   "id": "d7790682",
   "metadata": {},
   "outputs": [
    {
     "name": "stdout",
     "output_type": "stream",
     "text": [
      "    Row No   Outlook  Temperature  Humidity   Wind Play\n",
      "0        1     Sunny           85        85  False   No\n",
      "1        2     Sunny           80        90   True   No\n",
      "2        3  Overcast           83        78  False  Yes\n",
      "3        4      Rain           70        96  False  Yes\n",
      "4        5      Rain           68        80  False  Yes\n",
      "5        6      Rain           65        70   True   No\n",
      "6        7  Overcast           64        65   True  Yes\n",
      "7        8     Sunny           72        95  False   No\n",
      "8        9     Sunny           69        70  False  Yes\n",
      "9       10      Rain           75        80  False  Yes\n",
      "10      11     Sunny           72        75   True  Yes\n",
      "11      12  Overcast           74        90   True  Yes\n",
      "12      13  Overcast           86        70  False  Yes\n",
      "13      14      Rain           70        95  False   No\n"
     ]
    }
   ],
   "source": [
    "data_file = \"golf_play2.csv\"\n",
    "golf_df = pd.read_csv(data_file, skipinitialspace=True)\n",
    "print(golf_df)"
   ]
  },
  {
   "cell_type": "code",
   "execution_count": 3,
   "id": "7877040f",
   "metadata": {},
   "outputs": [
    {
     "name": "stdout",
     "output_type": "stream",
     "text": [
      "*** Original Dataset ***\n",
      "     Outlook  Temperature  Humidity   Wind Play\n",
      "0      Sunny           85        85  False   No\n",
      "1      Sunny           80        90   True   No\n",
      "2   Overcast           83        78  False  Yes\n",
      "3       Rain           70        96  False  Yes\n",
      "4       Rain           68        80  False  Yes\n",
      "5       Rain           65        70   True   No\n",
      "6   Overcast           64        65   True  Yes\n",
      "7      Sunny           72        95  False   No\n",
      "8      Sunny           69        70  False  Yes\n",
      "9       Rain           75        80  False  Yes\n",
      "10     Sunny           72        75   True  Yes\n",
      "11  Overcast           74        90   True  Yes\n",
      "12  Overcast           86        70  False  Yes\n",
      "13      Rain           70        95  False   No\n"
     ]
    }
   ],
   "source": [
    "# Remove the Row No column as it is not an important feature\n",
    "golf_df = golf_df.drop(\"Row No\", axis=1)\n",
    "print(\"*** Original Dataset ***\")\n",
    "print(golf_df)"
   ]
  },
  {
   "cell_type": "code",
   "execution_count": 4,
   "id": "5752d399",
   "metadata": {},
   "outputs": [
    {
     "name": "stdout",
     "output_type": "stream",
     "text": [
      "*** Transformed Dataset ***\n",
      "    Outlook  Temperature  Humidity   Wind Play\n",
      "0         1           85        85  False   No\n",
      "1         1           80        90   True   No\n",
      "2         2           83        78  False  Yes\n",
      "3         3           70        96  False  Yes\n",
      "4         3           68        80  False  Yes\n",
      "5         3           65        70   True   No\n",
      "6         2           64        65   True  Yes\n",
      "7         1           72        95  False   No\n",
      "8         1           69        70  False  Yes\n",
      "9         3           75        80  False  Yes\n",
      "10        1           72        75   True  Yes\n",
      "11        2           74        90   True  Yes\n",
      "12        2           86        70  False  Yes\n",
      "13        3           70        95  False   No\n"
     ]
    }
   ],
   "source": [
    "# Map string vales for Outlook column to numbers\n",
    "code = {\"Sunny\": 1, \"Overcast\": 2, \"Rain\": 3}\n",
    "golf_df[\"Outlook\"] = [code[item] for item in golf_df[\"Outlook\"]]\n",
    "print(\"*** Transformed Dataset ***\")\n",
    "print(golf_df)"
   ]
  },
  {
   "cell_type": "code",
   "execution_count": 5,
   "id": "5f46d6ac",
   "metadata": {},
   "outputs": [
    {
     "name": "stdout",
     "output_type": "stream",
     "text": [
      "*** Test Results ***\n",
      "    Outlook  Temperature  Humidity   Wind Play prediction\n",
      "8         1           69        70  False  Yes        Yes\n",
      "6         2           64        65   True  Yes        Yes\n",
      "4         3           68        80  False  Yes        Yes\n",
      "11        2           74        90   True  Yes         No\n",
      "2         2           83        78  False  Yes        Yes\n"
     ]
    }
   ],
   "source": [
    "# split the data into training and test data\n",
    "train, test = train_test_split(golf_df, test_size=0.3, random_state=0)\n",
    "\n",
    "# initialize Gaussian Naive Bayes\n",
    "clf = GaussianNB()\n",
    "\n",
    "# Use all columns apart from the Play column as features\n",
    "train_features = train.iloc[:, 0:4]\n",
    "# Use the play column as the label\n",
    "train_label = train.iloc[:, 4]\n",
    "\n",
    "# Repeat above for test data\n",
    "test_features = test.iloc[:, 0:4]\n",
    "test_label = test.iloc[:, 4]\n",
    "\n",
    "# Train the naive bayes model\n",
    "clf.fit(train_features, train_label)\n",
    "\n",
    "# build a dataframe to show the expected vs predicted values\n",
    "test_data = pd.concat([test_features, test_label], axis=1)\n",
    "test_data[\"prediction\"] = clf.predict(test_features)\n",
    "\n",
    "print(\"*** Test Results ***\")\n",
    "print(test_data)"
   ]
  },
  {
   "cell_type": "code",
   "execution_count": 6,
   "id": "51c8b669",
   "metadata": {},
   "outputs": [
    {
     "name": "stdout",
     "output_type": "stream",
     "text": [
      "Naive Bayes Accuracy: 0.8\n"
     ]
    }
   ],
   "source": [
    "# Use the score function and output the prediction accuracy\n",
    "print(\"Naive Bayes Accuracy:\", clf.score(test_features, test_label))"
   ]
  },
  {
   "cell_type": "code",
   "execution_count": null,
   "id": "53c627d8",
   "metadata": {},
   "outputs": [],
   "source": []
  }
 ],
 "metadata": {
  "kernelspec": {
   "display_name": "Python 3 (ipykernel)",
   "language": "python",
   "name": "python3"
  },
  "language_info": {
   "codemirror_mode": {
    "name": "ipython",
    "version": 3
   },
   "file_extension": ".py",
   "mimetype": "text/x-python",
   "name": "python",
   "nbconvert_exporter": "python",
   "pygments_lexer": "ipython3",
   "version": "3.11.4"
  }
 },
 "nbformat": 4,
 "nbformat_minor": 5
}
