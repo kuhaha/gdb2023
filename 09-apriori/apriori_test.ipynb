{
 "cells": [
  {
   "cell_type": "code",
   "execution_count": 1,
   "metadata": {
    "executionInfo": {
     "elapsed": 1,
     "status": "ok",
     "timestamp": 1669003251987,
     "user": {
      "displayName": "Cheng Kai",
      "userId": "11193234788139270863"
     },
     "user_tz": -540
    },
    "id": "mqbTcS0oTfwY"
   },
   "outputs": [],
   "source": [
    "transactions = [\n",
    "    ['Bread','Milk','Butter'],\n",
    "    ['Bread','Milk','Jam'],\n",
    "    ['Milk','Margarine'],\n",
    "    ['Bread','Butter'],\n",
    "    ['Bread','Milk','Butter','Jam'],\n",
    "    ['Margarine'],\n",
    "    ['Bread','Milk','Jam','Margarine'],\n",
    "    ['Jam']\n",
    "]"
   ]
  },
  {
   "cell_type": "code",
   "execution_count": 2,
   "metadata": {
    "executionInfo": {
     "elapsed": 228,
     "status": "ok",
     "timestamp": 1669003450346,
     "user": {
      "displayName": "Cheng Kai",
      "userId": "11193234788139270863"
     },
     "user_tz": -540
    },
    "id": "QdWs1G5iVr2o"
   },
   "outputs": [],
   "source": [
    "from apyori import apriori, load_transactions"
   ]
  },
  {
   "cell_type": "code",
   "execution_count": 3,
   "metadata": {
    "colab": {
     "base_uri": "https://localhost:8080/"
    },
    "executionInfo": {
     "elapsed": 341,
     "status": "ok",
     "timestamp": 1669003455391,
     "user": {
      "displayName": "Cheng Kai",
      "userId": "11193234788139270863"
     },
     "user_tz": -540
    },
    "id": "pa8fvtrCVZL7",
    "outputId": "1ffab591-94e8-4c3b-cb6b-cadb5b086bef"
   },
   "outputs": [
    {
     "name": "stdout",
     "output_type": "stream",
     "text": [
      "['Butter', 'Bread']\n",
      "Rule: ['Butter'] -> ['Bread']\n",
      "Support: 0.375\n",
      "Confidence: 1.0\n",
      "=====================================\n",
      "['Bread', 'Milk']\n",
      "Rule: ['Bread'] -> ['Milk']\n",
      "Support: 0.5\n",
      "Confidence: 0.8\n",
      "=====================================\n",
      "Rule: ['Milk'] -> ['Bread']\n",
      "Support: 0.5\n",
      "Confidence: 0.8\n",
      "=====================================\n",
      "['Bread', 'Milk', 'Jam']\n",
      "Rule: ['Bread', 'Jam'] -> ['Milk']\n",
      "Support: 0.375\n",
      "Confidence: 1.0\n",
      "=====================================\n",
      "Rule: ['Milk', 'Jam'] -> ['Bread']\n",
      "Support: 0.375\n",
      "Confidence: 1.0\n",
      "=====================================\n"
     ]
    }
   ],
   "source": [
    "association_rules = apriori(transactions,\n",
    "    min_support=0.3,\n",
    "    min_confidence=0.80,\n",
    "    min_lift=1.0,\n",
    "    max_length=None)\n",
    "\n",
    "#print (list(association_rules))  #dump raw data for debugging\n",
    "\n",
    "for ruleset in association_rules:\n",
    "    items = [x for x in ruleset.items]\n",
    "    print (str(items))\n",
    "    support = ruleset.support\n",
    "    rules = ruleset.ordered_statistics\n",
    "    for rule in rules:\n",
    "        lhs =  str(list(rule.items_base)) # left-hand side\n",
    "        rhs =  str(list(rule.items_add))  # right-hand side\n",
    "        print(\"Rule: \" + lhs + \" -> \" + rhs)\n",
    "        print(\"Support: \" + str(support))\n",
    "        print(\"Confidence: \" + str(rule.confidence))\n",
    "        #print(\"Lift: \" + str(rule.lift))\n",
    "        print(\"=====================================\")"
   ]
  },
  {
   "cell_type": "code",
   "execution_count": null,
   "metadata": {},
   "outputs": [],
   "source": []
  }
 ],
 "metadata": {
  "colab": {
   "authorship_tag": "ABX9TyMddj1UK2ikgAGrxxYM+iTd",
   "provenance": []
  },
  "kernelspec": {
   "display_name": "Python 3 (ipykernel)",
   "language": "python",
   "name": "python3"
  },
  "language_info": {
   "codemirror_mode": {
    "name": "ipython",
    "version": 3
   },
   "file_extension": ".py",
   "mimetype": "text/x-python",
   "name": "python",
   "nbconvert_exporter": "python",
   "pygments_lexer": "ipython3",
   "version": "3.9.7"
  }
 },
 "nbformat": 4,
 "nbformat_minor": 4
}
